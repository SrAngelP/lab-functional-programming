{
 "cells": [
  {
   "cell_type": "markdown",
   "metadata": {},
   "source": [
    "In the cell below, create a Python function that wraps your previous solution for the Bag of Words lab.\n",
    "\n",
    "Requirements:\n",
    "\n",
    "1. Your function should accept the following parameters:\n",
    "    * `docs` [REQUIRED] - array of document paths.\n",
    "    * `stop_words` [OPTIONAL] - array of stop words. The default value is an empty array.\n",
    "\n",
    "1. Your function should return a Python object that contains the following:\n",
    "    * `bag_of_words` - array of strings of normalized unique words in the corpus.\n",
    "    * `term_freq` - array of the term-frequency vectors."
   ]
  },
  {
   "cell_type": "code",
   "execution_count": 61,
   "metadata": {},
   "outputs": [
    {
     "name": "stdout",
     "output_type": "stream",
     "text": [
      "{'bag_of_words': ['ironhack', 'cool', 'love', 'student'], 'term_freq': [[1, 1, 0, 0], [1, 0, 1, 0], [1, 0, 0, 1]]}\n"
     ]
    }
   ],
   "source": [
    "# Import required libraries\n",
    "import os\n",
    "import re\n",
    "\n",
    "docs = [str(open(file).read()) for file in os.listdir() if file.endswith('.txt')]\n",
    "#docs\n",
    "stop_words = ['all', 'six', 'less', 'being', 'indeed', 'over', 'move', 'anyway', 'fifty', 'four', 'not', 'own', 'through', 'yourselves', 'go', 'where', 'mill', 'only', 'find', 'before', 'one', 'whose', 'system', 'how', 'somewhere', 'with', 'thick', 'show', 'had', 'enough', 'should', 'to', 'must', 'whom', 'seeming', 'under', 'ours', 'has', 'might', 'thereafter', 'latterly', 'do', 'them', 'his', 'around', 'than', 'get', 'very', 'de', 'none', 'cannot', 'every', 'whether', 'they', 'front', 'during', 'thus', 'now', 'him', 'nor', 'name', 'several', 'hereafter', 'always', 'who', 'cry', 'whither', 'this', 'someone', 'either', 'each', 'become', 'thereupon', 'sometime', 'side', 'two', 'therein', 'twelve', 'because', 'often', 'ten', 'our', 'eg', 'some', 'back', 'up', 'namely', 'towards', 'are', 'further', 'beyond', 'ourselves', 'yet', 'out', 'even', 'will', 'what', 'still', 'for', 'bottom', 'mine', 'since', 'please', 'forty', 'per', 'its', 'everything', 'behind', 'un', 'above', 'between', 'it', 'neither', 'seemed', 'ever', 'across', 'she', 'somehow', 'be', 'we', 'full', 'never', 'sixty', 'however', 'here', 'otherwise', 'were', 'whereupon', 'nowhere', 'although', 'found', 'alone', 're', 'along', 'fifteen', 'by', 'both', 'about', 'last', 'would', 'anything', 'via', 'many', 'could', 'thence', 'put', 'against', 'keep', 'etc', 'amount', 'became', 'ltd', 'hence', 'onto', 'or', 'con', 'among', 'already', 'co', 'afterwards', 'formerly', 'within', 'seems', 'into', 'others', 'while', 'whatever', 'except', 'down', 'hers', 'everyone', 'done', 'least', 'another', 'whoever', 'moreover', 'couldnt', 'throughout', 'anyhow', 'yourself', 'three', 'from', 'her', 'few', 'together', 'top', 'there', 'due', 'been', 'next', 'anyone', 'eleven', 'much', 'call', 'therefore', 'interest', 'then', 'thru', 'themselves', 'hundred', 'was', 'sincere', 'empty', 'more', 'himself', 'elsewhere', 'mostly', 'on', 'fire', 'am', 'becoming', 'hereby', 'amongst', 'else', 'part', 'everywhere', 'too', 'herself', 'former', 'those', 'he', 'me', 'myself', 'made', 'twenty', 'these', 'bill', 'cant', 'us', 'until', 'besides', 'nevertheless', 'below', 'anywhere', 'nine', 'can', 'of', 'your', 'toward', 'my', 'something', 'and', 'whereafter', 'whenever', 'give', 'almost', 'wherever', 'is', 'describe', 'beforehand', 'herein', 'an', 'as', 'itself', 'at', 'have', 'in', 'seem', 'whence', 'ie', 'any', 'fill', 'again', 'hasnt', 'inc', 'thereby', 'thin', 'no', 'perhaps', 'latter', 'meanwhile', 'when', 'detail', 'same', 'wherein', 'beside', 'also', 'that', 'other', 'take', 'which', 'becomes', 'you', 'if', 'nobody', 'see', 'though', 'may', 'after', 'upon', 'most', 'hereupon', 'eight', 'but', 'serious', 'nothing', 'such', 'why', 'a', 'off', 'whereby', 'third', 'i', 'whole', 'noone', 'sometimes', 'well', 'amoungst', 'yours', 'their', 'rather', 'without', 'so', 'five', 'the', 'first', 'whereas', 'once']\n",
    "\n",
    "\n",
    "# Define function\n",
    "def get_bow_from_docs(docs, stop_words=[]):\n",
    "    \n",
    "    \n",
    "    # In the function, first define the variables you will use such as `corpus`, `bag_of_words`, and `term_freq`.\n",
    "    \n",
    "    corpus=[];\n",
    "\n",
    "\n",
    "\n",
    "    \n",
    "    \"\"\"\n",
    "    Loop `docs` and read the content of each doc into a string in `corpus`.\n",
    "    Remember to convert the doc content to lowercases and remove punctuation.\n",
    "    \"\"\"\n",
    "    corpus = [x.lower().rstrip('.') for x in docs]\n",
    "    corpus = [re.sub(r'[^\\w\\s]','',x) for x in corpus]\n",
    "    #corpus\n",
    "    \n",
    "    \n",
    "    \"\"\"\n",
    "    Loop `corpus`. Append the terms in each doc into the `bag_of_words` array. The terms in `bag_of_words` \n",
    "    should be unique which means before adding each term you need to check if it's already added to the array.\n",
    "    In addition, check if each term is in the `stop_words` array. Only append the term to `bag_of_words`\n",
    "    if it is not a stop word.\n",
    "    \"\"\"\n",
    "    bag_of_words=[];\n",
    "\n",
    "\n",
    "    for element in corpus:\n",
    "        for palabra in element.split(' '):\n",
    "            if palabra not in bag_of_words and palabra not in stop_words:\n",
    "                #print(palabra);\n",
    "                bag_of_words.append(palabra);\n",
    "\n",
    "    \n",
    "    \"\"\"\n",
    "    Loop `corpus` again. For each doc string, count the number of occurrences of each term in `bag_of_words`. \n",
    "    Create an array for each doc's term frequency and append it to `term_freq`.\n",
    "    \"\"\"\n",
    "    \n",
    "    term_freq=[];\n",
    "    \n",
    "    for element in corpus:\n",
    "        count=[];\n",
    "        for i in bag_of_words:\n",
    "            #print(i)\n",
    "            #print(count);\n",
    "            if i in element.split(' '):\n",
    "                count.append(1)\n",
    "            else:\n",
    "                count.append(0)\n",
    "        term_freq.append(count)   \n",
    "    \n",
    "    # Now return your output as an object\n",
    "    return {\n",
    "        'bag_of_words' : bag_of_words, \n",
    "        'term_freq' : term_freq\n",
    "    }\n",
    "\n",
    "\n",
    "\n",
    "result = get_bow_from_docs(docs, stop_words)\n",
    "    \n",
    "print(result)    "
   ]
  },
  {
   "cell_type": "markdown",
   "metadata": {},
   "source": [
    "Test your function without stop words. You should see the output like below:\n",
    "\n",
    "```{'bag_of_words': ['ironhack', 'is', 'cool', 'i', 'love', 'am', 'a', 'student', 'at'], 'term_freq': [[1, 1, 1, 0, 0, 0, 0, 0, 0], [1, 0, 0, 1, 1, 0, 0, 0, 0], [1, 0, 0, 1, 0, 1, 1, 1, 1]]}```"
   ]
  },
  {
   "cell_type": "code",
   "execution_count": null,
   "metadata": {},
   "outputs": [],
   "source": [
    "# Define doc paths array\n",
    "docs = []\n",
    "\n",
    "# Obtain BoW from your function\n",
    "bow = get_bow_from_docs(docs)\n",
    "\n",
    "# Print BoW\n",
    "print(bow)"
   ]
  },
  {
   "cell_type": "markdown",
   "metadata": {},
   "source": [
    "If your attempt above is successful, nice work done!\n",
    "\n",
    "Now test your function again with the stop words. In the previous lab we defined the stop words in a large array. In this lab, we'll import the stop words from Scikit-Learn."
   ]
  },
  {
   "cell_type": "code",
   "execution_count": 66,
   "metadata": {},
   "outputs": [
    {
     "name": "stdout",
     "output_type": "stream",
     "text": [
      "frozenset({'eleven', 'afterwards', 'anything', 'except', 'or', 'find', 'indeed', 'your', 'will', 'whereby', 'sometimes', 'noone', 'wherever', 'herself', 'me', 'what', 'out', 'nine', 'due', 'i', 'also', 'move', 'thence', 'who', 'cry', 'whom', 'co', 'either', 'every', 'front', 'fill', 'can', 'meanwhile', 'from', 'had', 'against', 'now', 'been', 'since', 'those', 'across', 'could', 'another', 'itself', 'couldnt', 'anyway', 'etc', 'thus', 'even', 'two', 'always', 'whose', 'sometime', 'hundred', 'call', 'together', 'twenty', 'into', 'in', 'fifteen', 'nowhere', 'off', 'almost', 'any', 'was', 'be', 'that', 'cant', 'per', 'alone', 'at', 'how', 'thin', 'beforehand', 'found', 'many', 'becoming', 'the', 'inc', 'still', 'along', 'for', 'ourselves', 'other', 'a', 'whereas', 'empty', 'show', 'everyone', 'sixty', 'ten', 'via', 'upon', 'formerly', 'when', 'there', 'first', 'anywhere', 'their', 'more', 'he', 'although', 'third', 'nor', 'own', 'under', 'thick', 'whereafter', 're', 'six', 'anyone', 'whatever', 'serious', 'give', 'everywhere', 'forty', 'not', 'his', 'up', 'by', 'un', 'therein', 'might', 'too', 'toward', 'anyhow', 'while', 'she', 'de', 'detail', 'hence', 'through', 'elsewhere', 'and', 'him', 'this', 'without', 'we', 'interest', 'below', 'than', 'bill', 'one', 'top', 'yourselves', 'hereupon', 'fire', 'none', 'cannot', 'would', 'ltd', 'everything', 'whence', 'nevertheless', 'mine', 'of', 'do', 'as', 'being', 'someone', 'it', 'so', 'latterly', 'above', 'then', 'somehow', 'us', 'throughout', 'during', 'most', 'whereupon', 'else', 'back', 'about', 'some', 'become', 'its', 'otherwise', 'becomes', 'neither', 'to', 'yours', 'mostly', 'mill', 'eight', 'our', 'bottom', 'whither', 'myself', 'something', 'among', 'until', 'my', 'well', 'sincere', 'thereupon', 'ie', 'yet', 'but', 'on', 'were', 'whoever', 'they', 'became', 'get', 'though', 'describe', 'ours', 'whether', 'amount', 'last', 'such', 'are', 'hereafter', 'done', 'con', 'onto', 'name', 'an', 'himself', 'whole', 'because', 'part', 'after', 'no', 'before', 'all', 'twelve', 'why', 'further', 'if', 'somewhere', 'full', 'is', 'seeming', 'often', 'her', 'between', 'behind', 'must', 'fifty', 'go', 'with', 'them', 'next', 'should', 'several', 'hers', 'around', 'same', 'here', 'never', 'perhaps', 'thereby', 'each', 'eg', 'seemed', 'much', 'latter', 'however', 'has', 'whenever', 'rather', 'few', 'others', 'very', 'both', 'again', 'keep', 'which', 'wherein', 'am', 'already', 'yourself', 'these', 'over', 'namely', 'see', 'seems', 'side', 'hasnt', 'moreover', 'nobody', 'take', 'thru', 'less', 'amongst', 'besides', 'amoungst', 'beyond', 'nothing', 'enough', 'four', 'herein', 'beside', 'ever', 'may', 'please', 'where', 'have', 'only', 'put', 'thereafter', 'you', 'system', 'former', 'hereby', 'made', 'towards', 'within', 'least', 'three', 'down', 'once', 'themselves', 'five', 'seem', 'therefore'})\n"
     ]
    }
   ],
   "source": [
    "from sklearn.feature_extraction import _stop_words\n",
    "print(_stop_words.ENGLISH_STOP_WORDS)"
   ]
  },
  {
   "cell_type": "markdown",
   "metadata": {},
   "source": [
    "You should have seen a large list of words that looks like:\n",
    "\n",
    "```frozenset({'across', 'mine', 'cannot', ...})```\n",
    "\n",
    "`frozenset` is a type of Python object that is immutable. In this lab you can use it just like an array without conversion."
   ]
  },
  {
   "cell_type": "markdown",
   "metadata": {},
   "source": [
    "Next, test your function with supplying `stop_words.ENGLISH_STOP_WORDS` as the second parameter."
   ]
  },
  {
   "cell_type": "code",
   "execution_count": 69,
   "metadata": {},
   "outputs": [
    {
     "name": "stdout",
     "output_type": "stream",
     "text": [
      "{'bag_of_words': ['ironhack', 'cool', 'love', 'student'], 'term_freq': [[1, 1, 0, 0], [1, 0, 1, 0], [1, 0, 0, 1]]}\n"
     ]
    }
   ],
   "source": [
    "bow = get_bow_from_docs(docs, _stop_words.ENGLISH_STOP_WORDS)\n",
    "\n",
    "print(bow)"
   ]
  },
  {
   "cell_type": "markdown",
   "metadata": {},
   "source": [
    "You should have seen:\n",
    "\n",
    "```{'bag_of_words': ['ironhack', 'cool', 'love', 'student'], 'term_freq': [[1, 1, 0, 0], [1, 0, 1, 0], [1, 0, 0, 1]]}```"
   ]
  },
  {
   "cell_type": "code",
   "execution_count": null,
   "metadata": {},
   "outputs": [],
   "source": []
  }
 ],
 "metadata": {
  "kernelspec": {
   "display_name": "Python 3 (ipykernel)",
   "language": "python",
   "name": "python3"
  },
  "language_info": {
   "codemirror_mode": {
    "name": "ipython",
    "version": 3
   },
   "file_extension": ".py",
   "mimetype": "text/x-python",
   "name": "python",
   "nbconvert_exporter": "python",
   "pygments_lexer": "ipython3",
   "version": "3.9.12"
  }
 },
 "nbformat": 4,
 "nbformat_minor": 2
}
